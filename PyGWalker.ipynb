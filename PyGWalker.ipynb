{
 "cells": [
  {
   "cell_type": "raw",
   "id": "8534906d30d54f91",
   "metadata": {},
   "source": [
    "PyGWalker：让你的Pandas数据可视化更简单"
   ]
  },
  {
   "metadata": {
    "ExecuteTime": {
     "end_time": "2024-09-29T14:49:09.848715Z",
     "start_time": "2024-09-29T14:49:09.571710Z"
    }
   },
   "cell_type": "code",
   "source": [
    "import pandas as pd\n",
    "import pygwalker as pyg\n",
    "df = pd.read_csv(r'movie_metadata.csv')\n",
    "walker = pyg.walk(df)"
   ],
   "id": "edf89bfbfc9802db",
   "outputs": [
    {
     "data": {
      "text/plain": [
       "Box(children=(HTML(value='\\n<div id=\"ifr-pyg-0006234330d9eee9N7AKz2WTxYr0C83k\" style=\"height: auto\">\\n    <hea…"
      ],
      "application/vnd.jupyter.widget-view+json": {
       "version_major": 2,
       "version_minor": 0,
       "model_id": "9b3859e1fcf0476cac7295e25f1dc8ce"
      }
     },
     "metadata": {},
     "output_type": "display_data"
    },
    {
     "data": {
      "text/plain": [
       "<IPython.core.display.HTML object>"
      ],
      "text/html": [
       "<script>\n",
       "    window.addEventListener(\"message\", function(event) {\n",
       "        const backgroundMap = {\n",
       "            \"dark\": \"hsl(240 10% 3.9%)\",\n",
       "            \"light\": \"hsl(0 0 100%)\",\n",
       "        };\n",
       "        const colorMap = {\n",
       "            \"dark\": \"hsl(0 0% 98%)\",\n",
       "            \"light\": \"hsl(240 10% 3.9%)\",\n",
       "        };\n",
       "        if (event.data.action === \"changeAppearance\" && event.data.gid === \"0006234330d9eee9N7AKz2WTxYr0C83k\") {\n",
       "            var iframe = document.getElementById(\"gwalker-0006234330d9eee9N7AKz2WTxYr0C83k\");\n",
       "            iframe.style.background  = backgroundMap[event.data.appearance];\n",
       "            iframe.style.color = colorMap[event.data.appearance];\n",
       "        }\n",
       "    });\n",
       "</script>"
      ]
     },
     "metadata": {},
     "output_type": "display_data"
    },
    {
     "data": {
      "text/plain": [
       "<IPython.core.display.HTML object>"
      ],
      "text/html": []
     },
     "metadata": {},
     "output_type": "display_data"
    }
   ],
   "execution_count": 31
  },
  {
   "metadata": {},
   "cell_type": "markdown",
   "source": "在Streamlit中生成数据可视化网站",
   "id": "a9ed3ac1a231f2a3"
  },
  {
   "metadata": {},
   "cell_type": "code",
   "outputs": [],
   "execution_count": null,
   "source": [
    "from pygwalker.api.streamlit import StreamlitRenderer, init_streamlit_comm\n",
    "import pandas as pd\n",
    "import streamlit as st\n",
    "\n",
    "# Adjust the width of the Streamlit page\n",
    "st.set_page_config(\n",
    "    page_title=\"Use Pygwalker In Streamlit\",\n",
    "    layout=\"wide\"\n",
    ")\n",
    "\n",
    "# Establish communication between pygwalker and streamlit\n",
    "init_streamlit_comm()\n",
    "\n",
    "# Add a title\n",
    "st.title(\"Use Pygwalker In Streamlit\")\n",
    "\n",
    "\n",
    "# Get an instance of pygwalker's renderer. You should cache this instance to effectively prevent the growth of in-process memory.\n",
    "@st.cache_resource\n",
    "def get_pyg_renderer() -> \"StreamlitRenderer\":\n",
    "    df = pd.read_csv(\"movie_metadata.csv\")\n",
    "    # When you need to publish your app to the public, you should set the debug parameter to False to prevent other users from writing to your chart configuration file.\n",
    "    return StreamlitRenderer(df, spec=\"./gw_config.json\", debug=False)\n",
    "\n",
    "\n",
    "renderer = get_pyg_renderer()\n",
    "\n",
    "# Render your data exploration interface. Developers can use it to build charts by drag and drop.\n",
    "renderer.render_explore()\n",
    "#streamlit run pygwalker_demo.py\n"
   ],
   "id": "6dad372acf66780b"
  }
 ],
 "metadata": {
  "kernelspec": {
   "display_name": "Python 3 (ipykernel)",
   "language": "python",
   "name": "python3"
  },
  "language_info": {
   "codemirror_mode": {
    "name": "ipython",
    "version": 3
   },
   "file_extension": ".py",
   "mimetype": "text/x-python",
   "name": "python",
   "nbconvert_exporter": "python",
   "pygments_lexer": "ipython3",
   "version": "3.11.0"
  }
 },
 "nbformat": 4,
 "nbformat_minor": 5
}
