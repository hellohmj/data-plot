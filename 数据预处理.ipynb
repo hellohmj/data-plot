{
 "cells": [
  {
   "metadata": {},
   "cell_type": "markdown",
   "source": "最全总结！Pandas 十大清洗技巧 ！！",
   "id": "d5832a68e1542f00"
  },
  {
   "metadata": {},
   "cell_type": "code",
   "outputs": [],
   "execution_count": null,
   "source": [
    "# 在机器学习实验中，Pandas数据清洗是确保数据质量的关键步骤，可以有效处理缺失值、重复数据和异常值。\n",
    "# 数据清洗直接影响模型的性能，因为干净的数据能提高模型的准确性和鲁棒性。\n",
    "# 通过Pandas的数据清洗，可以为后续的特征工程和建模奠定坚实的基础。\n",
    "# 今儿详细聊的 Pandas 十大数据清洗技巧有：\n",
    "# 处理缺失值\n",
    "# 处理重复数据\n",
    "# 数据类型转换\n",
    "# 处理异常值\n",
    "# 数据标准化与归一化\n",
    "# 字符串操作\n",
    "# 时间序列数据处理\n",
    "# 条件筛选与过滤\n",
    "# 数据分箱与离散化数据合并与连接"
   ],
   "id": "85d7c8ebaa975a05"
  },
  {
   "metadata": {
    "ExecuteTime": {
     "end_time": "2024-09-17T12:51:24.500952Z",
     "start_time": "2024-09-17T12:51:24.496872Z"
    }
   },
   "cell_type": "code",
   "source": [
    "# 1. 处理缺失值主要功能在数据集中，缺失值（NaN）是常见的现象。\n",
    "# 缺失值的处理是数据清洗中的重要部分，因为它们可能影响模型的性能。\n",
    "# 常见的处理方法包括删除含有缺失值的行或列，或者使用特定值填充缺失值。\n",
    "# Python实现删除缺失值使用dropna()方法可以删除包含NaN的行或列。\n",
    "# 通过设置参数axis=0或axis=1，可以分别删除行或列。"
   ],
   "id": "b263013506f64d3a",
   "outputs": [],
   "execution_count": 2
  },
  {
   "metadata": {
    "ExecuteTime": {
     "end_time": "2024-09-17T12:54:44.618188Z",
     "start_time": "2024-09-17T12:54:44.195478Z"
    }
   },
   "cell_type": "code",
   "source": [
    "import pandas as pd\n",
    "\n",
    "data = {'Name':  ['Tom', 'Jerry', 'Spike', None],\n",
    "        'Age':[ 20, 21,None, 22],\n",
    "        'City': ['New York', None, 'Chicago', 'Boston']}\n",
    "\n",
    "df=pd.DataFrame(data)\n",
    "\n",
    "#删除包含NaN的行\n",
    "df_cleaned=df.dropna()\n",
    "print(df_cleaned)"
   ],
   "id": "913ab2be5a773f7e",
   "outputs": [
    {
     "name": "stdout",
     "output_type": "stream",
     "text": [
      "  Name   Age      City\n",
      "0  Tom  20.0  New York\n"
     ]
    }
   ],
   "execution_count": 4
  },
  {
   "metadata": {},
   "cell_type": "code",
   "outputs": [],
   "execution_count": null,
   "source": "# 填充缺失值使用fillna()方法可以填充缺失值，常见填充方式包括使用固定值、前向填充（ffill）或后向填充（bfill）",
   "id": "e69d89530e437a6f"
  },
  {
   "metadata": {
    "ExecuteTime": {
     "end_time": "2024-09-17T12:56:26.376703Z",
     "start_time": "2024-09-17T12:56:26.370940Z"
    }
   },
   "cell_type": "code",
   "source": [
    "#填充缺失值为0\n",
    "df_filled=df.fillna(0)\n",
    "print(df_filled)"
   ],
   "id": "cac8891fdf7de49d",
   "outputs": [
    {
     "name": "stdout",
     "output_type": "stream",
     "text": [
      "    Name   Age      City\n",
      "0    Tom  20.0  New York\n",
      "1  Jerry  21.0         0\n",
      "2  Spike   0.0   Chicago\n",
      "3      0  22.0    Boston\n"
     ]
    }
   ],
   "execution_count": 6
  },
  {
   "metadata": {
    "ExecuteTime": {
     "end_time": "2024-09-17T12:57:19.032558Z",
     "start_time": "2024-09-17T12:57:19.027036Z"
    }
   },
   "cell_type": "code",
   "source": [
    "#前向填充\n",
    "df_ffill=df.fillna(method='ffill')        \n",
    "print(df_ffill)"
   ],
   "id": "157df0c506965d04",
   "outputs": [
    {
     "name": "stdout",
     "output_type": "stream",
     "text": [
      "    Name   Age      City\n",
      "0    Tom  20.0  New York\n",
      "1  Jerry  21.0  New York\n",
      "2  Spike  21.0   Chicago\n",
      "3  Spike  22.0    Boston\n"
     ]
    },
    {
     "name": "stderr",
     "output_type": "stream",
     "text": [
      "C:\\Users\\VICTUS\\AppData\\Local\\Temp\\ipykernel_9620\\3172870604.py:2: FutureWarning: DataFrame.fillna with 'method' is deprecated and will raise in a future version. Use obj.ffill() or obj.bfill() instead.\n",
      "  df_ffill=df.fillna(method='ffill')\n"
     ]
    }
   ],
   "execution_count": 9
  },
  {
   "metadata": {
    "ExecuteTime": {
     "end_time": "2024-09-17T12:57:26.806914Z",
     "start_time": "2024-09-17T12:57:26.799788Z"
    }
   },
   "cell_type": "code",
   "source": [
    "#后向填充\n",
    "df_bfill=df.fillna(method='bfill')\n",
    "print(df_bfill)"
   ],
   "id": "16b9d8b6a9eda6e",
   "outputs": [
    {
     "name": "stdout",
     "output_type": "stream",
     "text": [
      "    Name   Age      City\n",
      "0    Tom  20.0  New York\n",
      "1  Jerry  21.0   Chicago\n",
      "2  Spike  22.0   Chicago\n",
      "3   None  22.0    Boston\n"
     ]
    },
    {
     "name": "stderr",
     "output_type": "stream",
     "text": [
      "C:\\Users\\VICTUS\\AppData\\Local\\Temp\\ipykernel_9620\\443627168.py:2: FutureWarning: DataFrame.fillna with 'method' is deprecated and will raise in a future version. Use obj.ffill() or obj.bfill() instead.\n",
      "  df_bfill=df.fillna(method='bfill')\n"
     ]
    }
   ],
   "execution_count": 10
  },
  {
   "metadata": {},
   "cell_type": "markdown",
   "source": "2. 处理重复数据主要功能重复数据会导致模型的偏差和冗余信息。Pandas提供了检测和删除重复数据的功能。Python实现检测重复数据使用duplicated()方法可以检测重复行，返回一个布尔序列，表示每行是否为重复项。通过设置参数keep='first'或keep='last'，可以分别保留第一个或最后一个重复项。Python实现删除重复数据使用drop_duplicates()方法可以删除重复行。通过设置参数subset，可以指定检查重复项的列。#%%",
   "id": "3092ead347ee9324"
  },
  {
   "metadata": {
    "ExecuteTime": {
     "end_time": "2024-09-17T13:00:55.950785Z",
     "start_time": "2024-09-17T13:00:55.944421Z"
    }
   },
   "cell_type": "code",
   "source": [
    "data = {'Name':  ['Tom', 'Jerry', 'Spike', 'Tom'],\n",
    "        'Age':[ 20, 21, 22, 20],\n",
    "        'City': ['New York', 'Chicago', 'Boston', 'New York']}\n",
    "df=pd.DataFrame(data)\n",
    "\n",
    "#检测重复行\n",
    "duplicated=df.duplicated()\n",
    "print(duplicated)"
   ],
   "id": "c3c3bc84e64bebf0",
   "outputs": [
    {
     "name": "stdout",
     "output_type": "stream",
     "text": [
      "0    False\n",
      "1    False\n",
      "2    False\n",
      "3     True\n",
      "dtype: bool\n"
     ]
    }
   ],
   "execution_count": 12
  },
  {
   "metadata": {},
   "cell_type": "markdown",
   "source": "删除重复数据使用drop_duplicates()方法删除重复行，可以保留首次出现的行或最后一次出现的行。",
   "id": "310f0f293741b754"
  },
  {
   "metadata": {
    "ExecuteTime": {
     "end_time": "2024-09-17T13:02:10.249777Z",
     "start_time": "2024-09-17T13:02:10.243130Z"
    }
   },
   "cell_type": "code",
   "source": [
    "#删除重复行\n",
    "df_cleaned=df.drop_duplicates()\n",
    "print(df_cleaned)"
   ],
   "id": "cc05e252c0205bb7",
   "outputs": [
    {
     "name": "stdout",
     "output_type": "stream",
     "text": [
      "    Name  Age      City\n",
      "0    Tom   20  New York\n",
      "1  Jerry   21   Chicago\n",
      "2  Spike   22    Boston\n"
     ]
    }
   ],
   "execution_count": 13
  },
  {
   "metadata": {},
   "cell_type": "markdown",
   "source": "3. 数据类型转换主要功能不同的数据类型（如整数、浮点数、字符串）在模型训练时有不同的处理方式。有时需要将数据转换为适当的数据类型以符合模型的要求或简化计算。Python实现转换数据类型使用astype()方法可以将某一列转换为指定类型，例如将字符串转换为整数。",
   "id": "472e84ff5072aacd"
  },
  {
   "metadata": {
    "ExecuteTime": {
     "end_time": "2024-09-17T13:04:26.744543Z",
     "start_time": "2024-09-17T13:04:26.739229Z"
    }
   },
   "cell_type": "code",
   "source": [
    "data={'Name':['Tom','Jerry','Spike'],\n",
    "'Age':['20','21','22'],\n",
    "'Salary':[3000.5,3200.0,3150.75]}\n",
    "\n",
    "df=pd.DataFrame(data)\n",
    "\n",
    "#将Age列从字符串转换为整数\n",
    "df['Age']=df['Age'].astype(int)\n",
    "print(df.dtypes)"
   ],
   "id": "c689aba1d3071286",
   "outputs": [
    {
     "name": "stdout",
     "output_type": "stream",
     "text": [
      "Name       object\n",
      "Age         int32\n",
      "Salary    float64\n",
      "dtype: object\n"
     ]
    }
   ],
   "execution_count": 15
  },
  {
   "metadata": {},
   "cell_type": "markdown",
   "source": "4. 处理异常值主要功能异常值（outliers）是显著偏离正常数据范围的数据点，它们可能会显著影响模型的表现。通常需要识别并处理这些异常值。Python实现使用描述性统计使用describe()方法可以查看数据的基本统计信息，包括均值、中位数、标准差等，这可以帮助识别异常值。",
   "id": "49c7277b318c04c3"
  },
  {
   "metadata": {
    "ExecuteTime": {
     "end_time": "2024-09-17T13:05:28.631564Z",
     "start_time": "2024-09-17T13:05:28.624530Z"
    }
   },
   "cell_type": "code",
   "source": [
    "data={'Name':['Tom','Jerry','Spike','Butch'],\n",
    "'Age':[20,21,22,100],\n",
    "'Salary':[3000.5,3200.0,3150.75,40000]}\n",
    "\n",
    "df=pd.DataFrame(data)\n",
    "\n",
    "# 查看描述性统计\n",
    "print(df['Age'].describe())"
   ],
   "id": "d2740553becb1d04",
   "outputs": [
    {
     "name": "stdout",
     "output_type": "stream",
     "text": [
      "count      4.000000\n",
      "mean      40.750000\n",
      "std       39.508438\n",
      "min       20.000000\n",
      "25%       20.750000\n",
      "50%       21.500000\n",
      "75%       41.500000\n",
      "max      100.000000\n",
      "Name: Age, dtype: float64\n"
     ]
    }
   ],
   "execution_count": 17
  },
  {
   "metadata": {},
   "cell_type": "markdown",
   "source": "通过条件过滤移除异常值可以根据具体条件过滤掉异常值，例如仅保留Age在合理范围内的记录。",
   "id": "2a8d2d45cd6f03f6"
  },
  {
   "metadata": {
    "ExecuteTime": {
     "end_time": "2024-09-17T13:10:06.646825Z",
     "start_time": "2024-09-17T13:10:06.640415Z"
    }
   },
   "cell_type": "code",
   "source": [
    "#移除Age异常值\n",
    "df_cleaned=df[df['Age']<=60]\n",
    "print(df_cleaned)"
   ],
   "id": "7606fa0dcd9c25eb",
   "outputs": [
    {
     "name": "stdout",
     "output_type": "stream",
     "text": [
      "    Name  Age   Salary\n",
      "0    Tom   20  3000.50\n",
      "1  Jerry   21  3200.00\n",
      "2  Spike   22  3150.75\n"
     ]
    }
   ],
   "execution_count": 18
  },
  {
   "metadata": {},
   "cell_type": "markdown",
   "source": "5. 数据标准化与归一化主要功能在机器学习中，数据标准化（Standardization）和归一化（Normalization）是常用的预处理步骤，特别是在涉及距离计算或梯度下降的算法中。这些步骤有助于消除数据中的量纲影响，使模型训练更加稳定和高效。Python实现数据标准化标准化通常将数据调整为均值为0，标准差为1的分布。可以手动进行，也可以使用sklearn.preprocessing模块中的StandardScaler。",
   "id": "36b17f9c5e6b6850"
  },
  {
   "metadata": {
    "ExecuteTime": {
     "end_time": "2024-09-17T13:11:18.489181Z",
     "start_time": "2024-09-17T13:11:17.454850Z"
    }
   },
   "cell_type": "code",
   "source": [
    "from sklearn.preprocessing import StandardScaler\n",
    "\n",
    "data = {'Feature1': [1.0, 2.0, 3.0, 4.0, 5.0],\n",
    " 'Feature2': [100, 150, 200, 250, 300]}\n",
    "\n",
    "df = pd.DataFrame(data)\n",
    "\n",
    "scaler = StandardScaler()\n",
    "df_scaled = pd.DataFrame(scaler.fit_transform(df), columns=df.columns)\n",
    "print(df_scaled)"
   ],
   "id": "d2d7bab5391f2cca",
   "outputs": [
    {
     "name": "stdout",
     "output_type": "stream",
     "text": [
      "   Feature1  Feature2\n",
      "0 -1.414214 -1.414214\n",
      "1 -0.707107 -0.707107\n",
      "2  0.000000  0.000000\n",
      "3  0.707107  0.707107\n",
      "4  1.414214  1.414214\n"
     ]
    }
   ],
   "execution_count": 19
  },
  {
   "metadata": {},
   "cell_type": "markdown",
   "source": "",
   "id": "618b427f9d155dc6"
  },
  {
   "metadata": {},
   "cell_type": "markdown",
   "source": "数据归一化归一化通常将数据缩放到0-1之间。可以使用min-max方法来实现。",
   "id": "9bec4b42ac0f6efb"
  },
  {
   "metadata": {
    "ExecuteTime": {
     "end_time": "2024-09-17T13:12:02.105337Z",
     "start_time": "2024-09-17T13:12:02.096305Z"
    }
   },
   "cell_type": "code",
   "source": [
    "df_normalized=(df-df.min())/(df.max()-df.min())\n",
    "print(df_normalized)"
   ],
   "id": "d7e639828d1665e9",
   "outputs": [
    {
     "name": "stdout",
     "output_type": "stream",
     "text": [
      "   Feature1  Feature2\n",
      "0      0.00      0.00\n",
      "1      0.25      0.25\n",
      "2      0.50      0.50\n",
      "3      0.75      0.75\n",
      "4      1.00      1.00\n"
     ]
    }
   ],
   "execution_count": 20
  },
  {
   "metadata": {},
   "cell_type": "markdown",
   "source": "6. 字符串操作主要功能Pandas提供了强大的字符串操作功能，可以对文本数据进行清洗和预处理，例如去除空格、大小写转换、正则表达式匹配等。Python实现去除空格使用str.strip()可以去除字符串中的前后空格。",
   "id": "42063c2176932ae7"
  },
  {
   "metadata": {
    "ExecuteTime": {
     "end_time": "2024-09-17T13:12:43.423572Z",
     "start_time": "2024-09-17T13:12:43.415331Z"
    }
   },
   "cell_type": "code",
   "source": [
    "data={'Name':['Tom','Jerry','Spike']}\n",
    "df=pd.DataFrame(data)\n",
    "\n",
    "df['Name']=df['Name'].str.strip()\n",
    "print(df)"
   ],
   "id": "989a788388154d39",
   "outputs": [
    {
     "name": "stdout",
     "output_type": "stream",
     "text": [
      "    Name\n",
      "0    Tom\n",
      "1  Jerry\n",
      "2  Spike\n"
     ]
    }
   ],
   "execution_count": 21
  },
  {
   "metadata": {},
   "cell_type": "markdown",
   "source": "大小写转换可以使用str.lower()或str.upper()将字符串转换为小写或大写。",
   "id": "f935b59fd3a6e2c7"
  },
  {
   "metadata": {
    "ExecuteTime": {
     "end_time": "2024-09-17T13:13:18.892761Z",
     "start_time": "2024-09-17T13:13:18.886882Z"
    }
   },
   "cell_type": "code",
   "source": [
    "df['Name']=df['Name'].str.lower()\n",
    "print(df)"
   ],
   "id": "2874d0f5a45b87",
   "outputs": [
    {
     "name": "stdout",
     "output_type": "stream",
     "text": [
      "    Name\n",
      "0    tom\n",
      "1  jerry\n",
      "2  spike\n"
     ]
    }
   ],
   "execution_count": 22
  },
  {
   "metadata": {},
   "cell_type": "markdown",
   "source": "字符串替换可以使用str.replace()方法替换字符串中的子串。",
   "id": "e022d2524385cb2d"
  },
  {
   "metadata": {
    "ExecuteTime": {
     "end_time": "2024-09-17T13:13:52.787607Z",
     "start_time": "2024-09-17T13:13:52.782199Z"
    }
   },
   "cell_type": "code",
   "source": [
    "df['Name']=df['Name'].str.replace('tom','Tom')\n",
    "print(df)"
   ],
   "id": "2f70b39700d06e9b",
   "outputs": [
    {
     "name": "stdout",
     "output_type": "stream",
     "text": [
      "    Name\n",
      "0    Tom\n",
      "1  jerry\n",
      "2  spike\n"
     ]
    }
   ],
   "execution_count": 24
  },
  {
   "metadata": {},
   "cell_type": "markdown",
   "source": "7. 时间序列数据处理主要功能时间序列数据是机器学习和数据分析中常见的数据类型。Pandas提供了丰富的时间序列处理功能，例如日期解析、时间序列重采样等。Python实现日期解析使用pd.to_datetime()可以将字符串转换为日期时间格式。",
   "id": "41f324bf8d8343e4"
  },
  {
   "metadata": {
    "ExecuteTime": {
     "end_time": "2024-09-17T13:15:07.109118Z",
     "start_time": "2024-09-17T13:15:07.102246Z"
    }
   },
   "cell_type": "code",
   "source": [
    "data={'Date':['2021-01-01','2021-02-01','2021-03-01'],'value':[100,200,300]}\n",
    "df=pd.DataFrame(data)\n",
    "\n",
    "df['Date']=pd.to_datetime(df['Date'])\n",
    "print(df)\n",
    "print(df.dtypes)"
   ],
   "id": "1d92c5d45f3a528",
   "outputs": [
    {
     "name": "stdout",
     "output_type": "stream",
     "text": [
      "        Date  value\n",
      "0 2021-01-01    100\n",
      "1 2021-02-01    200\n",
      "2 2021-03-01    300\n",
      "Date     datetime64[ns]\n",
      "value             int64\n",
      "dtype: object\n"
     ]
    }
   ],
   "execution_count": 27
  },
  {
   "metadata": {},
   "cell_type": "markdown",
   "source": "时间序列重采样使用resample()可以对时间序列数据进行重采样，例如按天、周、月等进行聚合操作。",
   "id": "9a2213008dec6cce"
  },
  {
   "metadata": {
    "ExecuteTime": {
     "end_time": "2024-09-17T13:15:40.646100Z",
     "start_time": "2024-09-17T13:15:40.616436Z"
    }
   },
   "cell_type": "code",
   "source": [
    "rng=pd.date_range('2021-01-01',periods=100,freq='D')\n",
    "ts=pd.Series(range(len(rng)),index=rng)\n",
    "\n",
    "#按周重采样并求和\n",
    "ts_resampled=ts.resample('W').sum()\n",
    "print(ts_resampled)"
   ],
   "id": "ed91e6528fb948aa",
   "outputs": [
    {
     "name": "stdout",
     "output_type": "stream",
     "text": [
      "2021-01-03      3\n",
      "2021-01-10     42\n",
      "2021-01-17     91\n",
      "2021-01-24    140\n",
      "2021-01-31    189\n",
      "2021-02-07    238\n",
      "2021-02-14    287\n",
      "2021-02-21    336\n",
      "2021-02-28    385\n",
      "2021-03-07    434\n",
      "2021-03-14    483\n",
      "2021-03-21    532\n",
      "2021-03-28    581\n",
      "2021-04-04    630\n",
      "2021-04-11    579\n",
      "Freq: W-SUN, dtype: int64\n"
     ]
    }
   ],
   "execution_count": 28
  },
  {
   "metadata": {},
   "cell_type": "markdown",
   "source": "8. 条件筛选与过滤主要功能在数据清洗过程中，经常需要根据特定条件筛选和过滤数据，以便聚焦于分析目标或移除不相关的数据。Python实现单条件筛选可以直接对DataFrame进行条件操作，返回符合条件的行。",
   "id": "b0621c6dabae1fc5"
  },
  {
   "metadata": {
    "ExecuteTime": {
     "end_time": "2024-09-17T13:16:46.134036Z",
     "start_time": "2024-09-17T13:16:46.128584Z"
    }
   },
   "cell_type": "code",
   "source": [
    "data={'Name':['Tom','Jerry','Spike','Butch'],\n",
    "'Age':[20,21,22,20],\n",
    "'Salary':[3000.5,3200.0,3150.75,2900.0]}\n",
    "\n",
    "df=pd.DataFrame(data)\n",
    "\n",
    "#筛选Age大于20的行\n",
    "df_filtered=df[df['Age']>20]\n",
    "print(df_filtered)"
   ],
   "id": "a1095fe473615961",
   "outputs": [
    {
     "name": "stdout",
     "output_type": "stream",
     "text": [
      "    Name  Age   Salary\n",
      "1  Jerry   21  3200.00\n",
      "2  Spike   22  3150.75\n"
     ]
    }
   ],
   "execution_count": 30
  },
  {
   "metadata": {},
   "cell_type": "code",
   "outputs": [],
   "execution_count": null,
   "source": [
    "#多条件筛选可以使用&（与）和|（或）连接多个条件。\n",
    "#筛选Age大于20且Salary大于3000的行\n",
    "df_filtered=df[(df['Age']>20)&(df['Salary']>3000)]\n",
    "print(df_filtered)\n"
   ],
   "id": "826223213cc02f8b"
  },
  {
   "metadata": {},
   "cell_type": "markdown",
   "source": "9. 数据分箱与离散化主要功能数据分箱（Binning）或离散化（Discretization）可以将连续变量转换为分类变量，有助于减少模型的复杂性并提高可解释性。Python实现使用pd.cut()进行分箱pd.cut()可以将数据分割成离散的区间。可以指定区间的边界和标签。",
   "id": "e6d4946299876778"
  },
  {
   "metadata": {
    "ExecuteTime": {
     "end_time": "2024-09-17T13:18:28.295038Z",
     "start_time": "2024-09-17T13:18:28.280418Z"
    }
   },
   "cell_type": "code",
   "source": [
    "data={'Age':[18,22,25,30,35,40,50,60,70,80]}\n",
    "df=pd.DataFrame(data)\n",
    "\n",
    "#将Age分为3个区间\n",
    "df['Age_Group']=pd.cut(df['Age'],bins=3,labels=[\"Young\",\"Middle-aged\",\"Old\"])\n",
    "print(df)"
   ],
   "id": "9b82dfbfd68ea2e0",
   "outputs": [
    {
     "name": "stdout",
     "output_type": "stream",
     "text": [
      "   Age    Age_Group\n",
      "0   18        Young\n",
      "1   22        Young\n",
      "2   25        Young\n",
      "3   30        Young\n",
      "4   35        Young\n",
      "5   40  Middle-aged\n",
      "6   50  Middle-aged\n",
      "7   60          Old\n",
      "8   70          Old\n",
      "9   80          Old\n"
     ]
    }
   ],
   "execution_count": 31
  },
  {
   "metadata": {},
   "cell_type": "markdown",
   "source": "使用pd.qcut()按分位数分箱pd.qcut()根据数据的分布按分位数进行分箱。可以指定分箱的数量。",
   "id": "17b65623c59f3ba1"
  },
  {
   "metadata": {
    "ExecuteTime": {
     "end_time": "2024-09-17T13:18:34.671812Z",
     "start_time": "2024-09-17T13:18:34.656984Z"
    }
   },
   "cell_type": "code",
   "source": [
    "#将Age按分位数分为4组\n",
    "df['Age_Quartile']=pd.qcut(df['Age'],4)\n",
    "print(df)"
   ],
   "id": "73175f3511c61553",
   "outputs": [
    {
     "name": "stdout",
     "output_type": "stream",
     "text": [
      "   Age    Age_Group     Age_Quartile\n",
      "0   18        Young  (17.999, 26.25]\n",
      "1   22        Young  (17.999, 26.25]\n",
      "2   25        Young  (17.999, 26.25]\n",
      "3   30        Young    (26.25, 37.5]\n",
      "4   35        Young    (26.25, 37.5]\n",
      "5   40  Middle-aged     (37.5, 57.5]\n",
      "6   50  Middle-aged     (37.5, 57.5]\n",
      "7   60          Old     (57.5, 80.0]\n",
      "8   70          Old     (57.5, 80.0]\n",
      "9   80          Old     (57.5, 80.0]\n"
     ]
    }
   ],
   "execution_count": 32
  },
  {
   "metadata": {},
   "cell_type": "markdown",
   "source": "10. 数据合并与连接主要功能在数据清洗过程中，常常需要将来自不同来源的数据进行合并和连接，以构建完整的分析数据集。Pandas提供了强大的数据合并与连接功能。Python实现使用pd.merge()进行数据合并pd.merge()函数可以根据一个或多个键将两个DataFrame合并为一个。可以指定合并的方式（内连接、左连接、右连接、外连接）。",
   "id": "58f843d87d5c5b7b"
  },
  {
   "metadata": {
    "ExecuteTime": {
     "end_time": "2024-09-17T13:20:13.842932Z",
     "start_time": "2024-09-17T13:20:13.830130Z"
    }
   },
   "cell_type": "code",
   "source": [
    "data1={'Key':['A','B','C','D'],'Value1':[1,2,3,4]}\n",
    "\n",
    "data2={'Key':['A','B','E','F'],\n",
    "'Value2':[5,6,7,8]}\n",
    "\n",
    "df1=pd.DataFrame(data1)\n",
    "df2=pd.DataFrame(data2)\n",
    "\n",
    "#按照Key列进行合并（内连接）\n",
    "df_merged=pd.merge(df1,df2,on='Key',how='inner')\n",
    "print(df_merged)"
   ],
   "id": "5a3414e05218d9ac",
   "outputs": [
    {
     "name": "stdout",
     "output_type": "stream",
     "text": [
      "  Key  Value1  Value2\n",
      "0   A       1       5\n",
      "1   B       2       6\n"
     ]
    }
   ],
   "execution_count": 33
  },
  {
   "metadata": {
    "ExecuteTime": {
     "end_time": "2024-09-17T13:20:41.757441Z",
     "start_time": "2024-09-17T13:20:41.749970Z"
    }
   },
   "cell_type": "code",
   "source": [
    "#使用pd.concat()进行数据连接pd.concat()函数可以沿指定轴连接两个或多个DataFrame。可以指定连接的方式（行连接或列连接）。\n",
    "df_concat=pd.concat([df1,df2],axis=0)\n",
    "print(df_concat)"
   ],
   "id": "e21c04030d1cb5a4",
   "outputs": [
    {
     "name": "stdout",
     "output_type": "stream",
     "text": [
      "  Key  Value1  Value2\n",
      "0   A     1.0     NaN\n",
      "1   B     2.0     NaN\n",
      "2   C     3.0     NaN\n",
      "3   D     4.0     NaN\n",
      "0   A     NaN     5.0\n",
      "1   B     NaN     6.0\n",
      "2   E     NaN     7.0\n",
      "3   F     NaN     8.0\n"
     ]
    }
   ],
   "execution_count": 34
  },
  {
   "metadata": {},
   "cell_type": "markdown",
   "source": "代表案例假设我们有一个虚拟的客户数据集，包含客户的年龄、收入、购买次数、以及客户的注册时间。我们将进行以下步骤：数据加载与展示。处理缺失值（填充和删除）。转换数据类型（将注册时间转换为日期格式）。处理异常值（删除极端收入值）。数据分箱（根据年龄进行分箱）。数据可视化（绘制年龄分布和收入与购买次数的散点图）",
   "id": "9dfe3d7b44754c0e"
  },
  {
   "metadata": {
    "ExecuteTime": {
     "end_time": "2024-09-17T13:24:23.147109Z",
     "start_time": "2024-09-17T13:24:22.768482Z"
    }
   },
   "cell_type": "code",
   "source": [
    "import pandas as pd\n",
    "import numpy as np\n",
    "import matplotlib.pyplot as plt\n",
    "import seaborn as sns\n",
    "\n",
    "# 设置随机种子\n",
    "np.random.seed(42)\n",
    "\n",
    "# 生成虚拟数据集，并将Age和Income列设为浮点类型以便引入NaN\n",
    "data = {\n",
    "    'CustomerID': range(1, 101),\n",
    "    'Age': np.random.randint(18, 70, size=100).astype(float),  # 将Age列设为浮点类型\n",
    "    'Income': np.random.normal(50000, 15000, 100),\n",
    "    'Purchases': np.random.poisson(5, 100),\n",
    "    'RegistrationDate': pd.to_datetime('2021-01-01') + pd.to_timedelta(np.random.randint(0, 365, 100), unit='d')\n",
    "}\n",
    "\n",
    "# 随机引入缺失值\n",
    "for col in ['Age', 'Income']:\n",
    "    data[col][np.random.choice(100, 10, replace=False)] = np.nan\n",
    "\n",
    "df = pd.DataFrame(data)\n",
    "\n",
    "# Step 1: 数据展示\n",
    "print(\"原始数据：\")\n",
    "print(df.head())\n",
    "\n",
    "# Step 2: 处理缺失值\n",
    "df['Age'].fillna(df['Age'].median(), inplace=True)  # 用中位数填充\n",
    "df.dropna(subset=['Income'], inplace=True)  # 删除收入为空的行\n",
    "\n",
    "# Step 3: 数据类型转换\n",
    "df['RegistrationDate'] = pd.to_datetime(df['RegistrationDate'])\n",
    "\n",
    "# Step 4: 处理异常值（删除极端收入值）\n",
    "income_threshold = df['Income'].mean() + 3 * df['Income'].std()\n",
    "df = df[df['Income'] < income_threshold]\n",
    "\n",
    "# Step 5: 数据分箱（按年龄分箱）\n",
    "df['AgeGroup'] = pd.cut(df['Age'], bins=[17, 30, 40, 50, 60, 70], labels=['18-30', '31-40', '41-50', '51-60', '61-70'])\n",
    "\n",
    "# Step 6: 数据可视化\n",
    "plt.figure(figsize=(14, 7))\n",
    "\n",
    "# 子图1: 年龄分布柱状图\n",
    "plt.subplot(1, 2, 1)\n",
    "sns.histplot(df['Age'], bins=15, kde=True, color='orange')\n",
    "plt.title('Age Distribution')\n",
    "plt.xlabel('Age')\n",
    "plt.ylabel('Frequency')\n",
    "\n",
    "# 子图2: 收入与购买次数的散点图\n",
    "plt.subplot(1, 2, 2)\n",
    "sns.scatterplot(data=df, x='Income', y='Purchases', hue='AgeGroup', palette='Set1', s=100)\n",
    "plt.title('Income vs Purchases')\n",
    "plt.xlabel('Income')\n",
    "plt.ylabel('Purchases')\n",
    "plt.tight_layout()\n",
    "plt.savefig('data_cleaning.png')\n",
    "plt.show()"
   ],
   "id": "2d7bc5410ab3c20b",
   "outputs": [
    {
     "name": "stdout",
     "output_type": "stream",
     "text": [
      "原始数据：\n",
      "   CustomerID   Age        Income  Purchases RegistrationDate\n",
      "0           1  56.0  21864.848417          5       2021-12-12\n",
      "1           2  69.0  29498.267917          9       2021-10-29\n",
      "2           3  46.0  59544.576625         10       2021-12-29\n",
      "3           4  32.0           NaN          4       2021-08-06\n",
      "4           5  60.0  57140.638811          5       2021-05-21\n"
     ]
    },
    {
     "name": "stderr",
     "output_type": "stream",
     "text": [
      "C:\\Users\\VICTUS\\AppData\\Local\\Temp\\ipykernel_9620\\715513026.py:29: FutureWarning: A value is trying to be set on a copy of a DataFrame or Series through chained assignment using an inplace method.\n",
      "The behavior will change in pandas 3.0. This inplace method will never work because the intermediate object on which we are setting values always behaves as a copy.\n",
      "\n",
      "For example, when doing 'df[col].method(value, inplace=True)', try using 'df.method({col: value}, inplace=True)' or df[col] = df[col].method(value) instead, to perform the operation inplace on the original object.\n",
      "\n",
      "\n",
      "  df['Age'].fillna(df['Age'].median(), inplace=True)  # 用中位数填充\n"
     ]
    },
    {
     "data": {
      "text/plain": [
       "<Figure size 1400x700 with 2 Axes>"
      ],
      "image/png": "[encoded data removed]"
     },
     "metadata": {},
     "output_type": "display_data"
    }
   ],
   "execution_count": 36
  },
  {
   "metadata": {},
   "cell_type": "code",
   "outputs": [],
   "execution_count": null,
   "source": "",
   "id": "c603f11a73340e01"
  }
 ],
 "metadata": {
  "kernelspec": {
   "display_name": "Python 3",
   "language": "python",
   "name": "python3"
  },
  "language_info": {
   "codemirror_mode": {
    "name": "ipython",
    "version": 2
   },
   "file_extension": ".py",
   "mimetype": "text/x-python",
   "name": "python",
   "nbconvert_exporter": "python",
   "pygments_lexer": "ipython2",
   "version": "2.7.6"
  }
 },
 "nbformat": 4,
 "nbformat_minor": 5
}
